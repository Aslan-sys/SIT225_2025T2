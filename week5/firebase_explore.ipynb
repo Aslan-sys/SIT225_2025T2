{
 "cells": [
  {
   "cell_type": "code",
   "execution_count": null,
   "metadata": {},
   "outputs": [],
   "source": [
    "student_id = \"222379582\"\n",
    "student_first_last_name = \"Arsalan Sharifizad\"\n",
    "print(student_id, student_first_last_name)"
   ]
  },
  {
   "cell_type": "code",
   "execution_count": 6,
   "metadata": {},
   "outputs": [
    {
     "name": "stdout",
     "output_type": "stream",
     "text": [
      "Requirement already satisfied: firebase_admin in /Users/arsalansharifizad/anaconda3/lib/python3.13/site-packages (7.1.0)\n",
      "Requirement already satisfied: pandas in /Users/arsalansharifizad/anaconda3/lib/python3.13/site-packages (2.2.3)\n",
      "Requirement already satisfied: cachecontrol>=0.14.3 in /Users/arsalansharifizad/anaconda3/lib/python3.13/site-packages (from firebase_admin) (0.14.3)\n",
      "Requirement already satisfied: google-api-core<3.0.0dev,>=2.25.1 in /Users/arsalansharifizad/anaconda3/lib/python3.13/site-packages (from google-api-core[grpc]<3.0.0dev,>=2.25.1; platform_python_implementation != \"PyPy\"->firebase_admin) (2.25.1)\n",
      "Requirement already satisfied: google-cloud-firestore>=2.21.0 in /Users/arsalansharifizad/anaconda3/lib/python3.13/site-packages (from firebase_admin) (2.21.0)\n",
      "Requirement already satisfied: google-cloud-storage>=3.1.1 in /Users/arsalansharifizad/anaconda3/lib/python3.13/site-packages (from firebase_admin) (3.3.0)\n",
      "Requirement already satisfied: pyjwt>=2.10.1 in /Users/arsalansharifizad/anaconda3/lib/python3.13/site-packages (from pyjwt[crypto]>=2.10.1->firebase_admin) (2.10.1)\n",
      "Requirement already satisfied: httpx==0.28.1 in /Users/arsalansharifizad/anaconda3/lib/python3.13/site-packages (from httpx[http2]==0.28.1->firebase_admin) (0.28.1)\n",
      "Requirement already satisfied: anyio in /Users/arsalansharifizad/anaconda3/lib/python3.13/site-packages (from httpx==0.28.1->httpx[http2]==0.28.1->firebase_admin) (4.7.0)\n",
      "Requirement already satisfied: certifi in /Users/arsalansharifizad/anaconda3/lib/python3.13/site-packages (from httpx==0.28.1->httpx[http2]==0.28.1->firebase_admin) (2025.6.15)\n",
      "Requirement already satisfied: httpcore==1.* in /Users/arsalansharifizad/anaconda3/lib/python3.13/site-packages (from httpx==0.28.1->httpx[http2]==0.28.1->firebase_admin) (1.0.9)\n",
      "Requirement already satisfied: idna in /Users/arsalansharifizad/anaconda3/lib/python3.13/site-packages (from httpx==0.28.1->httpx[http2]==0.28.1->firebase_admin) (3.7)\n",
      "Requirement already satisfied: h2<5,>=3 in /Users/arsalansharifizad/anaconda3/lib/python3.13/site-packages (from httpx[http2]==0.28.1->firebase_admin) (4.3.0)\n",
      "Requirement already satisfied: googleapis-common-protos<2.0.0,>=1.56.2 in /Users/arsalansharifizad/anaconda3/lib/python3.13/site-packages (from google-api-core<3.0.0dev,>=2.25.1->google-api-core[grpc]<3.0.0dev,>=2.25.1; platform_python_implementation != \"PyPy\"->firebase_admin) (1.70.0)\n",
      "Requirement already satisfied: protobuf!=3.20.0,!=3.20.1,!=4.21.0,!=4.21.1,!=4.21.2,!=4.21.3,!=4.21.4,!=4.21.5,<7.0.0,>=3.19.5 in /Users/arsalansharifizad/anaconda3/lib/python3.13/site-packages (from google-api-core<3.0.0dev,>=2.25.1->google-api-core[grpc]<3.0.0dev,>=2.25.1; platform_python_implementation != \"PyPy\"->firebase_admin) (6.32.0)\n",
      "Requirement already satisfied: proto-plus<2.0.0,>=1.22.3 in /Users/arsalansharifizad/anaconda3/lib/python3.13/site-packages (from google-api-core<3.0.0dev,>=2.25.1->google-api-core[grpc]<3.0.0dev,>=2.25.1; platform_python_implementation != \"PyPy\"->firebase_admin) (1.26.1)\n",
      "Requirement already satisfied: google-auth<3.0.0,>=2.14.1 in /Users/arsalansharifizad/anaconda3/lib/python3.13/site-packages (from google-api-core<3.0.0dev,>=2.25.1->google-api-core[grpc]<3.0.0dev,>=2.25.1; platform_python_implementation != \"PyPy\"->firebase_admin) (2.40.3)\n",
      "Requirement already satisfied: requests<3.0.0,>=2.18.0 in /Users/arsalansharifizad/anaconda3/lib/python3.13/site-packages (from google-api-core<3.0.0dev,>=2.25.1->google-api-core[grpc]<3.0.0dev,>=2.25.1; platform_python_implementation != \"PyPy\"->firebase_admin) (2.32.3)\n",
      "Requirement already satisfied: grpcio<2.0.0,>=1.33.2 in /Users/arsalansharifizad/anaconda3/lib/python3.13/site-packages (from google-api-core[grpc]<3.0.0dev,>=2.25.1; platform_python_implementation != \"PyPy\"->firebase_admin) (1.74.0)\n",
      "Requirement already satisfied: grpcio-status<2.0.0,>=1.33.2 in /Users/arsalansharifizad/anaconda3/lib/python3.13/site-packages (from google-api-core[grpc]<3.0.0dev,>=2.25.1; platform_python_implementation != \"PyPy\"->firebase_admin) (1.74.0)\n",
      "Requirement already satisfied: cachetools<6.0,>=2.0.0 in /Users/arsalansharifizad/anaconda3/lib/python3.13/site-packages (from google-auth<3.0.0,>=2.14.1->google-api-core<3.0.0dev,>=2.25.1->google-api-core[grpc]<3.0.0dev,>=2.25.1; platform_python_implementation != \"PyPy\"->firebase_admin) (5.5.1)\n",
      "Requirement already satisfied: pyasn1-modules>=0.2.1 in /Users/arsalansharifizad/anaconda3/lib/python3.13/site-packages (from google-auth<3.0.0,>=2.14.1->google-api-core<3.0.0dev,>=2.25.1->google-api-core[grpc]<3.0.0dev,>=2.25.1; platform_python_implementation != \"PyPy\"->firebase_admin) (0.2.8)\n",
      "Requirement already satisfied: rsa<5,>=3.1.4 in /Users/arsalansharifizad/anaconda3/lib/python3.13/site-packages (from google-auth<3.0.0,>=2.14.1->google-api-core<3.0.0dev,>=2.25.1->google-api-core[grpc]<3.0.0dev,>=2.25.1; platform_python_implementation != \"PyPy\"->firebase_admin) (4.9.1)\n",
      "Requirement already satisfied: hyperframe<7,>=6.1 in /Users/arsalansharifizad/anaconda3/lib/python3.13/site-packages (from h2<5,>=3->httpx[http2]==0.28.1->firebase_admin) (6.1.0)\n",
      "Requirement already satisfied: hpack<5,>=4.1 in /Users/arsalansharifizad/anaconda3/lib/python3.13/site-packages (from h2<5,>=3->httpx[http2]==0.28.1->firebase_admin) (4.1.0)\n",
      "Requirement already satisfied: h11>=0.16 in /Users/arsalansharifizad/anaconda3/lib/python3.13/site-packages (from httpcore==1.*->httpx==0.28.1->httpx[http2]==0.28.1->firebase_admin) (0.16.0)\n",
      "Requirement already satisfied: charset-normalizer<4,>=2 in /Users/arsalansharifizad/anaconda3/lib/python3.13/site-packages (from requests<3.0.0,>=2.18.0->google-api-core<3.0.0dev,>=2.25.1->google-api-core[grpc]<3.0.0dev,>=2.25.1; platform_python_implementation != \"PyPy\"->firebase_admin) (3.3.2)\n",
      "Requirement already satisfied: urllib3<3,>=1.21.1 in /Users/arsalansharifizad/anaconda3/lib/python3.13/site-packages (from requests<3.0.0,>=2.18.0->google-api-core<3.0.0dev,>=2.25.1->google-api-core[grpc]<3.0.0dev,>=2.25.1; platform_python_implementation != \"PyPy\"->firebase_admin) (2.3.0)\n",
      "Requirement already satisfied: pyasn1>=0.1.3 in /Users/arsalansharifizad/anaconda3/lib/python3.13/site-packages (from rsa<5,>=3.1.4->google-auth<3.0.0,>=2.14.1->google-api-core<3.0.0dev,>=2.25.1->google-api-core[grpc]<3.0.0dev,>=2.25.1; platform_python_implementation != \"PyPy\"->firebase_admin) (0.4.8)\n",
      "Requirement already satisfied: numpy>=1.26.0 in /Users/arsalansharifizad/anaconda3/lib/python3.13/site-packages (from pandas) (2.1.3)\n",
      "Requirement already satisfied: python-dateutil>=2.8.2 in /Users/arsalansharifizad/anaconda3/lib/python3.13/site-packages (from pandas) (2.9.0.post0)\n",
      "Requirement already satisfied: pytz>=2020.1 in /Users/arsalansharifizad/anaconda3/lib/python3.13/site-packages (from pandas) (2024.1)\n",
      "Requirement already satisfied: tzdata>=2022.7 in /Users/arsalansharifizad/anaconda3/lib/python3.13/site-packages (from pandas) (2025.2)\n",
      "Requirement already satisfied: msgpack<2.0.0,>=0.5.2 in /Users/arsalansharifizad/anaconda3/lib/python3.13/site-packages (from cachecontrol>=0.14.3->firebase_admin) (1.0.3)\n",
      "Requirement already satisfied: google-cloud-core<3.0.0,>=1.4.1 in /Users/arsalansharifizad/anaconda3/lib/python3.13/site-packages (from google-cloud-firestore>=2.21.0->firebase_admin) (2.4.3)\n",
      "Requirement already satisfied: google-resumable-media<3.0.0,>=2.7.2 in /Users/arsalansharifizad/anaconda3/lib/python3.13/site-packages (from google-cloud-storage>=3.1.1->firebase_admin) (2.7.2)\n",
      "Requirement already satisfied: google-crc32c<2.0.0,>=1.1.3 in /Users/arsalansharifizad/anaconda3/lib/python3.13/site-packages (from google-cloud-storage>=3.1.1->firebase_admin) (1.7.1)\n",
      "Requirement already satisfied: cryptography>=3.4.0 in /Users/arsalansharifizad/anaconda3/lib/python3.13/site-packages (from pyjwt[crypto]>=2.10.1->firebase_admin) (44.0.1)\n",
      "Requirement already satisfied: cffi>=1.12 in /Users/arsalansharifizad/anaconda3/lib/python3.13/site-packages (from cryptography>=3.4.0->pyjwt[crypto]>=2.10.1->firebase_admin) (1.17.1)\n",
      "Requirement already satisfied: pycparser in /Users/arsalansharifizad/anaconda3/lib/python3.13/site-packages (from cffi>=1.12->cryptography>=3.4.0->pyjwt[crypto]>=2.10.1->firebase_admin) (2.21)\n",
      "Requirement already satisfied: six>=1.5 in /Users/arsalansharifizad/anaconda3/lib/python3.13/site-packages (from python-dateutil>=2.8.2->pandas) (1.17.0)\n",
      "Requirement already satisfied: sniffio>=1.1 in /Users/arsalansharifizad/anaconda3/lib/python3.13/site-packages (from anyio->httpx==0.28.1->httpx[http2]==0.28.1->firebase_admin) (1.3.0)\n"
     ]
    }
   ],
   "source": [
    "\"\"\"\n",
    "\tFirebase Realtime database demonstration.\n",
    "    \n",
    "    @Ahsan Habib\n",
    "    School of IT,\n",
    "    Deakin University, Australia.\n",
    "\"\"\"\n",
    "\n",
    "# Install libraris, if not yet.\n",
    "! pip install firebase_admin pandas\n",
    "\n",
    "import firebase_admin\n",
    "\n",
    "databaseURL = 'https://sit225-project-906a4-default-rtdb.asia-southeast1.firebasedatabase.app/'\n",
    "cred_obj = firebase_admin.credentials.Certificate(\n",
    "    'serviceAccountKey.json'\n",
    ")\n",
    "default_app = firebase_admin.initialize_app(cred_obj, {\n",
    "\t'databaseURL':databaseURL\n",
    "\t})"
   ]
  },
  {
   "cell_type": "code",
   "execution_count": 11,
   "metadata": {},
   "outputs": [],
   "source": [
    "from firebase_admin import db\n",
    "\n",
    "# A reference point is always needed to be set\n",
    "# before any operation is carried out on a database.\n",
    "# \n",
    "ref = db.reference(\"/\")\n",
    "\n",
    "# JSON format data (key/value pair)\n",
    "data = {  # Outer {} contains inner data structure\n",
    "\t\"Book1\":\n",
    "\t{\n",
    "\t\t\"Title\": \"The Fellowship of the Ring\",\n",
    "\t\t\"Author\": \"J.R.R. Tolkien\",\n",
    "\t\t\"Genre\": \"Epic fantasy\",\n",
    "\t\t\"Price\": 100\n",
    "\t},\n",
    "\t\"Book2\":\n",
    "\t{\n",
    "\t\t\"Title\": \"The Two Towers\",\n",
    "\t\t\"Author\": \"J.R.R. Tolkien\",\n",
    "\t\t\"Genre\": \"Epic fantasy\",\n",
    "\t\t\"Price\": 100\t\n",
    "\t},\n",
    "\t\"Book3\":\n",
    "\t{\n",
    "\t\t\"Title\": \"The Return of the King\",\n",
    "\t\t\"Author\": \"J.R.R. Tolkien\",\n",
    "\t\t\"Genre\": \"Epic fantasy\",\n",
    "\t\t\"Price\": 100\n",
    "\t},\n",
    "\t\"Book4\":\n",
    "\t{\n",
    "\t\t\"Title\": \"Brida\",\n",
    "\t\t\"Author\": \"Paulo Coelho\",\n",
    "\t\t\"Genre\": \"Fiction\",\n",
    "\t\t\"Price\": 100\n",
    "\t}\n",
    "}\n",
    "\n",
    "# JSON format data is set (overwritten) to the reference \n",
    "# point set at /, which is the root node.\n",
    "# \n",
    "ref.set(data)"
   ]
  },
  {
   "cell_type": "code",
   "execution_count": 12,
   "metadata": {},
   "outputs": [
    {
     "name": "stdout",
     "output_type": "stream",
     "text": [
      "{'Book1': {'Author': 'J.R.R. Tolkien', 'Genre': 'Epic fantasy', 'Price': 100, 'Title': 'The Fellowship of the Ring'}, 'Book2': {'Author': 'J.R.R. Tolkien', 'Genre': 'Epic fantasy', 'Price': 100, 'Title': 'The Two Towers'}, 'Book3': {'Author': 'J.R.R. Tolkien', 'Genre': 'Epic fantasy', 'Price': 100, 'Title': 'The Return of the King'}, 'Book4': {'Author': 'Paulo Coelho', 'Genre': 'Fiction', 'Price': 100, 'Title': 'Brida'}}\n",
      "<class 'dict'>\n",
      "Book1: {'Author': 'J.R.R. Tolkien', 'Genre': 'Epic fantasy', 'Price': 100, 'Title': 'The Fellowship of the Ring'}\n",
      "Book2: {'Author': 'J.R.R. Tolkien', 'Genre': 'Epic fantasy', 'Price': 100, 'Title': 'The Two Towers'}\n",
      "Book3: {'Author': 'J.R.R. Tolkien', 'Genre': 'Epic fantasy', 'Price': 100, 'Title': 'The Return of the King'}\n",
      "Book4: {'Author': 'Paulo Coelho', 'Genre': 'Fiction', 'Price': 100, 'Title': 'Brida'}\n",
      "{'Author': 'J.R.R. Tolkien', 'Genre': 'Epic fantasy', 'Price': 100, 'Title': 'The Fellowship of the Ring'}\n"
     ]
    }
   ],
   "source": [
    "ref = db.reference(\"/\")  # set ref point\n",
    "\n",
    "# query all data under the ref\n",
    "books = ref.get()  \n",
    "print(books)\n",
    "print(type(books))\n",
    "\n",
    "# print each item separately\n",
    "for key, value in books.items():\n",
    "    print(f\"{key}: {value}\")\n",
    "\n",
    "\n",
    "# Query /Book1\n",
    "ref = db.reference(\"/Book1\")\n",
    "books = ref.get()\n",
    "print(books)"
   ]
  },
  {
   "cell_type": "code",
   "execution_count": 13,
   "metadata": {},
   "outputs": [],
   "source": [
    "# Write using push() function\n",
    "# Note that a set() is called on top of push()\n",
    "# \n",
    "ref = db.reference(\"/\")\n",
    "ref.set({\n",
    "\t\"Books\":\n",
    "\t{\n",
    "\t\t\"Best_Sellers\": -1\n",
    "\t}\n",
    "})\n",
    "\n",
    "ref = db.reference(\"/Books/Best_Sellers\")\n",
    "\n",
    "for key, value in data.items():\n",
    "\tref.push().set(value)"
   ]
  },
  {
   "cell_type": "code",
   "execution_count": 14,
   "metadata": {},
   "outputs": [
    {
     "name": "stdout",
     "output_type": "stream",
     "text": [
      "{'-OYQjQkxUu3mMLVvEzGX': {'Author': 'J.R.R. Tolkien', 'Genre': 'Epic fantasy', 'Price': 100, 'Title': 'The Fellowship of the Ring'}, '-OYQjQrHCtA4GG2MPPeJ': {'Author': 'J.R.R. Tolkien', 'Genre': 'Epic fantasy', 'Price': 100, 'Title': 'The Two Towers'}, '-OYQjQuwdXahd6f5tSAi': {'Author': 'J.R.R. Tolkien', 'Genre': 'Epic fantasy', 'Price': 100, 'Title': 'The Return of the King'}, '-OYQjR1ZP5dYzNwmRAX7': {'Author': 'Paulo Coelho', 'Genre': 'Fiction', 'Price': 100, 'Title': 'Brida'}}\n"
     ]
    }
   ],
   "source": [
    "# Update data\n",
    "# \n",
    "# Requirement: The price of the books by \n",
    "# J. R. R. Tolkien is reduced to 80 units to \n",
    "# offer a discount.\n",
    "# \n",
    "ref = db.reference(\"/Books/Best_Sellers/\")\n",
    "best_sellers = ref.get()\n",
    "print(best_sellers)\n",
    "for key, value in best_sellers.items():\n",
    "\tif(value[\"Author\"] == \"J.R.R. Tolkien\"):\n",
    "\t\tvalue[\"Price\"] = 90\n",
    "\t\tref.child(key).update({\"Price\":80})"
   ]
  },
  {
   "cell_type": "code",
   "execution_count": 15,
   "metadata": {},
   "outputs": [],
   "source": [
    "# Let's delete all best seller books \n",
    "# with J.R.R. Tolkien as the author.\n",
    "# \n",
    "ref = db.reference(\"/Books/Best_Sellers\")\n",
    "\n",
    "for key, value in best_sellers.items():\n",
    "\tif(value[\"Author\"] == \"J.R.R. Tolkien\"):\n",
    "\t\tref.child(key).set({})"
   ]
  },
  {
   "cell_type": "code",
   "execution_count": 16,
   "metadata": {},
   "outputs": [
    {
     "name": "stdout",
     "output_type": "stream",
     "text": [
      "{'-OYQjR1ZP5dYzNwmRAX7': {'Author': 'Paulo Coelho', 'Genre': 'Fiction', 'Price': 100, 'Title': 'Brida'}}\n",
      "<class 'dict'>\n"
     ]
    }
   ],
   "source": [
    "# Delete all best_seller data.\n",
    "# \n",
    "ref = db.reference(\"/Books/Best_Sellers/\")\n",
    "best_sellers = ref.get()\n",
    "print(best_sellers)\n",
    "print(type(best_sellers))"
   ]
  },
  {
   "cell_type": "code",
   "execution_count": 17,
   "metadata": {},
   "outputs": [],
   "source": [
    "ref = db.reference(\"/Books/Best_Sellers\")\n",
    "ref.set({})"
   ]
  },
  {
   "cell_type": "code",
   "execution_count": null,
   "metadata": {},
   "outputs": [],
   "source": []
  }
 ],
 "metadata": {
  "kernelspec": {
   "display_name": "Python [conda env:base] *",
   "language": "python",
   "name": "conda-base-py"
  },
  "language_info": {
   "codemirror_mode": {
    "name": "ipython",
    "version": 3
   },
   "file_extension": ".py",
   "mimetype": "text/x-python",
   "name": "python",
   "nbconvert_exporter": "python",
   "pygments_lexer": "ipython3",
   "version": "3.13.5"
  }
 },
 "nbformat": 4,
 "nbformat_minor": 4
}
